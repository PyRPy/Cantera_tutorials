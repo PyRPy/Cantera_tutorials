{
 "cells": [
  {
   "cell_type": "code",
   "execution_count": null,
   "metadata": {},
   "outputs": [],
   "source": [
    "\"\"\"\n",
    "A combustor, modeled as a single well-stirred reactor.\n",
    "\n",
    "We are interested in the steady-state burning solution. This example explores\n",
    "the effect of changing the residence time on completeness of reaction (through\n",
    "the burned gas temperature) and on the total heat release rate.\n",
    "\n",
    "Demonstrates the use of a MassFlowController where the mass flow rate function\n",
    "depends on variables other than time by capturing these variables from the\n",
    "enclosing scope. Also shows the use of a PressureController to create a constant\n",
    "pressure reactor with a fixed volume.\n",
    "\"\"\""
   ]
  },
  {
   "cell_type": "code",
   "execution_count": 1,
   "metadata": {},
   "outputs": [],
   "source": [
    "import numpy as np\n",
    "import matplotlib.pyplot as plt\n",
    "import cantera as ct"
   ]
  },
  {
   "cell_type": "code",
   "execution_count": 2,
   "metadata": {},
   "outputs": [],
   "source": [
    "# Use reaction mechanism GRI-Mech 3.0\n",
    "gas = ct.Solution('gri30.xml')"
   ]
  },
  {
   "cell_type": "code",
   "execution_count": 3,
   "metadata": {},
   "outputs": [],
   "source": [
    "# Create a Reservoir for the inlet, set to a methane/air mixture at a specified\n",
    "# equivalence ratio\n",
    "equiv_ratio = 0.5  # lean combustion\n",
    "gas.TP = 300.0, ct.one_atm\n",
    "gas.set_equivalence_ratio(equiv_ratio, 'CH4:1.0', 'O2:1.0, N2:3.76')\n",
    "inlet = ct.Reservoir(gas)"
   ]
  },
  {
   "cell_type": "code",
   "execution_count": 4,
   "metadata": {},
   "outputs": [],
   "source": [
    "# Create the combustor, and fill it initially with a mixture consisting of the\n",
    "# equilibrium products of the inlet mixture. This state corresponds to the state\n",
    "# the reactor would reach with infinite residence time, and thus provides a good\n",
    "# initial condition from which to reach a steady-state solution on the reacting\n",
    "# branch.\n",
    "gas.equilibrate('HP')\n",
    "combustor = ct.IdealGasReactor(gas)\n",
    "combustor.volume = 1.0"
   ]
  },
  {
   "cell_type": "code",
   "execution_count": 5,
   "metadata": {},
   "outputs": [],
   "source": [
    "# Create a reservoir for the exhaust\n",
    "exhaust = ct.Reservoir(gas)"
   ]
  },
  {
   "cell_type": "code",
   "execution_count": 6,
   "metadata": {},
   "outputs": [],
   "source": [
    "# Use a variable mass flow rate to keep the residence time in the reactor\n",
    "# constant (residence_time = mass / mass_flow_rate). The mass flow rate function\n",
    "# can access variables defined in the calling scope, including state variables\n",
    "# of the Reactor object (combustor) itself.\n",
    "\n",
    "def mdot(t):\n",
    "    return combustor.mass / residence_time\n",
    "\n",
    "inlet_mfc = ct.MassFlowController(inlet, combustor, mdot=mdot)"
   ]
  },
  {
   "cell_type": "code",
   "execution_count": 7,
   "metadata": {},
   "outputs": [],
   "source": [
    "# A PressureController has a baseline mass flow rate matching the 'master'\n",
    "# MassFlowController, with an additional pressure-dependent term. By explicitly\n",
    "# including the upstream mass flow rate, the pressure is kept constant without\n",
    "# needing to use a large value for 'K', which can introduce undesired stiffness.\n",
    "outlet_mfc = ct.PressureController(combustor, exhaust, master=inlet_mfc, K=0.01)\n",
    "\n",
    "# the simulation only contains one reactor\n",
    "sim = ct.ReactorNet([combustor])"
   ]
  },
  {
   "cell_type": "code",
   "execution_count": 8,
   "metadata": {},
   "outputs": [
    {
     "name": "stdout",
     "output_type": "stream",
     "text": [
      "tres = 1.00e-01; T = 1475.8\n",
      "tres = 9.00e-02; T = 1475.4\n",
      "tres = 8.10e-02; T = 1474.9\n",
      "tres = 7.29e-02; T = 1474.5\n",
      "tres = 6.56e-02; T = 1474.0\n",
      "tres = 5.90e-02; T = 1473.4\n",
      "tres = 5.31e-02; T = 1472.9\n",
      "tres = 4.78e-02; T = 1472.2\n",
      "tres = 4.30e-02; T = 1471.6\n",
      "tres = 3.87e-02; T = 1470.9\n",
      "tres = 3.49e-02; T = 1470.1\n",
      "tres = 3.14e-02; T = 1469.3\n",
      "tres = 2.82e-02; T = 1468.4\n",
      "tres = 2.54e-02; T = 1467.5\n",
      "tres = 2.29e-02; T = 1466.5\n",
      "tres = 2.06e-02; T = 1465.4\n",
      "tres = 1.85e-02; T = 1464.2\n",
      "tres = 1.67e-02; T = 1463.0\n",
      "tres = 1.50e-02; T = 1461.6\n",
      "tres = 1.35e-02; T = 1460.2\n",
      "tres = 1.22e-02; T = 1458.6\n",
      "tres = 1.09e-02; T = 1456.9\n",
      "tres = 9.85e-03; T = 1455.1\n",
      "tres = 8.86e-03; T = 1453.1\n",
      "tres = 7.98e-03; T = 1451.0\n",
      "tres = 7.18e-03; T = 1448.7\n",
      "tres = 6.46e-03; T = 1446.2\n",
      "tres = 5.81e-03; T = 1443.4\n",
      "tres = 5.23e-03; T = 1440.5\n",
      "tres = 4.71e-03; T = 1437.2\n",
      "tres = 4.24e-03; T = 1433.7\n",
      "tres = 3.82e-03; T = 1429.8\n",
      "tres = 3.43e-03; T = 1425.5\n",
      "tres = 3.09e-03; T = 1420.7\n",
      "tres = 2.78e-03; T = 1415.3\n",
      "tres = 2.50e-03; T = 1409.1\n",
      "tres = 2.25e-03; T = 1401.9\n",
      "tres = 2.03e-03; T = 1393.2\n",
      "tres = 1.82e-03; T = 1381.8\n",
      "tres = 1.64e-03; T = 1361.3\n",
      "tres = 1.48e-03; T = 300.0\n"
     ]
    }
   ],
   "source": [
    "# Run a loop over decreasing residence times, until the reactor is extinguished,\n",
    "# saving the state after each iteration.\n",
    "states = ct.SolutionArray(gas, extra=['tres'])\n",
    "\n",
    "residence_time = 0.1  # starting residence time\n",
    "while combustor.T > 500:\n",
    "    sim.set_initial_time(0.0)  # reset the integrator\n",
    "    sim.advance_to_steady_state()\n",
    "    print('tres = {:.2e}; T = {:.1f}'.format(residence_time, combustor.T))\n",
    "    states.append(combustor.thermo.state, tres=residence_time)\n",
    "    residence_time *= 0.9  # decrease the residence time for the next iteration"
   ]
  },
  {
   "cell_type": "code",
   "execution_count": 10,
   "metadata": {},
   "outputs": [
    {
     "data": {
      "text/plain": [
       "array([3.29759569e+06, 3.66350590e+06, 4.06998025e+06, 4.52150815e+06,\n",
       "       5.02307438e+06, 5.58021349e+06, 6.19907006e+06, 6.88646550e+06,\n",
       "       7.64997208e+06, 8.49799498e+06, 9.43986307e+06, 1.04859296e+07,\n",
       "       1.16476834e+07, 1.29378722e+07, 1.43706389e+07, 1.59616718e+07,\n",
       "       1.77283718e+07, 1.96900350e+07, 2.18680563e+07, 2.42861521e+07,\n",
       "       2.69706065e+07, 2.99505410e+07, 3.32582118e+07, 3.69293335e+07,\n",
       "       4.10034344e+07, 4.55242413e+07, 5.05400969e+07, 5.61044073e+07,\n",
       "       6.22761183e+07, 6.91202119e+07, 7.67082108e+07, 8.51186646e+07,\n",
       "       9.44375672e+07, 1.04758605e+08, 1.16183027e+08, 1.28818647e+08,\n",
       "       1.42776671e+08, 1.58162087e+08, 1.75037208e+08, 1.93074108e+08,\n",
       "       1.07040405e-17])"
      ]
     },
     "execution_count": 10,
     "metadata": {},
     "output_type": "execute_result"
    }
   ],
   "source": [
    "# Heat release rate [W/m^3]\n",
    "Q = - np.sum(states.net_production_rates * states.partial_molar_enthalpies, axis=1)\n",
    "Q"
   ]
  },
  {
   "cell_type": "code",
   "execution_count": 11,
   "metadata": {},
   "outputs": [
    {
     "data": {
      "image/png": "[encoded data removed]",
      "text/plain": [
       "<Figure size 432x288 with 2 Axes>"
      ]
     },
     "metadata": {
      "needs_background": "light"
     },
     "output_type": "display_data"
    }
   ],
   "source": [
    "# Plot results\n",
    "f, ax1 = plt.subplots(1,1)\n",
    "ax1.plot(states.tres, Q, '.-', color='C0')\n",
    "ax2 = ax1.twinx()\n",
    "ax2.plot(states.tres[:-1], states.T[:-1], '.-', color='C1')\n",
    "ax1.set_xlabel('residence time [s]')\n",
    "ax1.set_ylabel('heat release rate [W/m$^3$]', color='C0')\n",
    "ax2.set_ylabel('temperature [K]', color='C1')\n",
    "f.tight_layout()\n",
    "plt.show()"
   ]
  },
  {
   "cell_type": "code",
   "execution_count": 12,
   "metadata": {},
   "outputs": [],
   "source": [
    "# https://cantera.org/examples/python/reactors/combustor.py.html"
   ]
  }
 ],
 "metadata": {
  "kernelspec": {
   "display_name": "Python 3",
   "language": "python",
   "name": "python3"
  },
  "language_info": {
   "codemirror_mode": {
    "name": "ipython",
    "version": 3
   },
   "file_extension": ".py",
   "mimetype": "text/x-python",
   "name": "python",
   "nbconvert_exporter": "python",
   "pygments_lexer": "ipython3",
   "version": "3.7.4"
  }
 },
 "nbformat": 4,
 "nbformat_minor": 2
}
