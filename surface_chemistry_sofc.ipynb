{
 "cells": [
  {
   "cell_type": "code",
   "execution_count": 14,
   "metadata": {},
   "outputs": [
    {
     "name": "stdout",
     "output_type": "stream",
     "text": [
      "['C:\\\\Users\\\\kxi110617\\\\AppData\\\\Local\\\\conda\\\\conda\\\\envs\\\\spam\\\\lib\\\\site-packages\\\\cantera\\\\examples']\n"
     ]
    }
   ],
   "source": [
    "# A simple model of a solid oxide fuel cell.\n",
    "import cantera.examples\n",
    "print(cantera.examples.__path__)"
   ]
  },
  {
   "cell_type": "code",
   "execution_count": 2,
   "metadata": {},
   "outputs": [
    {
     "data": {
      "text/plain": [
       "'\\nUnlike most SOFC models, this model does not use semi-empirical Butler- Volmer\\nkinetics for the charge transfer reactions, but uses elementary, reversible\\nreactions obeying mass-action kinetics for all reactions, including charge\\ntransfer. As this script will demonstrate, this approach allows computing the\\nOCV (it does not need to be separately specified), as well as polarization\\ncurves.\\n\\nNOTE: The parameters here, and in the input file sofc.cti, are not to be\\nrelied upon for a real SOFC simulation! They are meant to illustrate only how\\nto do such a calculation in Cantera. While some of the parameters may be close\\nto real values, others are simply set arbitrarily to give reasonable-looking\\nresults.\\n\\nIt is recommended that you read input file sofc.cti before reading or running\\nthis script!\\n'"
      ]
     },
     "execution_count": 2,
     "metadata": {},
     "output_type": "execute_result"
    }
   ],
   "source": [
    "\"\"\"\n",
    "Unlike most SOFC models, this model does not use semi-empirical Butler- Volmer\n",
    "kinetics for the charge transfer reactions, but uses elementary, reversible\n",
    "reactions obeying mass-action kinetics for all reactions, including charge\n",
    "transfer. As this script will demonstrate, this approach allows computing the\n",
    "OCV (it does not need to be separately specified), as well as polarization\n",
    "curves.\n",
    "\n",
    "NOTE: The parameters here, and in the input file sofc.cti, are not to be\n",
    "relied upon for a real SOFC simulation! They are meant to illustrate only how\n",
    "to do such a calculation in Cantera. While some of the parameters may be close\n",
    "to real values, others are simply set arbitrarily to give reasonable-looking\n",
    "results.\n",
    "\n",
    "It is recommended that you read input file sofc.cti before reading or running\n",
    "this script!\n",
    "\"\"\""
   ]
  },
  {
   "cell_type": "code",
   "execution_count": 3,
   "metadata": {},
   "outputs": [],
   "source": [
    "import cantera as ct\n",
    "import math\n",
    "import csv\n",
    "import inspect\n",
    "import os"
   ]
  },
  {
   "cell_type": "code",
   "execution_count": 17,
   "metadata": {},
   "outputs": [],
   "source": [
    "ct.add_module_directory()"
   ]
  },
  {
   "cell_type": "code",
   "execution_count": 5,
   "metadata": {},
   "outputs": [],
   "source": [
    "# parameters\n",
    "T = 1073.15  # T in K\n",
    "P = ct.one_atm"
   ]
  },
  {
   "cell_type": "code",
   "execution_count": 6,
   "metadata": {},
   "outputs": [],
   "source": [
    "# gas compositions. Change as desired.\n",
    "anode_gas_X = 'H2:0.97, H2O:0.03'\n",
    "cathode_gas_X = 'O2:1.0, H2O:0.001'"
   ]
  },
  {
   "cell_type": "code",
   "execution_count": 7,
   "metadata": {},
   "outputs": [],
   "source": [
    "# time to integrate coverage eqs. to steady state in\n",
    "# 'advanceCoverages'. This should be more than enough time.\n",
    "tss = 50.0\n",
    "\n",
    "sigma = 2.0  # electrolyte conductivity [Siemens / m]\n",
    "ethick = 5.0e-5  # electrolyte thickness [m]\n",
    "TPB_length_per_area = 1.0e7  # TPB length per unit area [1/m]"
   ]
  },
  {
   "cell_type": "code",
   "execution_count": 8,
   "metadata": {},
   "outputs": [],
   "source": [
    "def show_coverages(s):\n",
    "    \"\"\"Print the coverages for surface s.\"\"\"\n",
    "    print('\\n{0}\\n'.format(s.name))\n",
    "    cov = s.coverages\n",
    "    names = s.species_names\n",
    "    for n in range(s.n_species):\n",
    "        print('{0:16s}  {1:13.4g}'.format(names[n], cov[n]))"
   ]
  },
  {
   "cell_type": "code",
   "execution_count": 9,
   "metadata": {},
   "outputs": [],
   "source": [
    "def equil_OCV(gas1, gas2):\n",
    "    return (-ct.gas_constant * gas1.T *\n",
    "        math.log(gas1['O2'].X / gas2['O2'].X) / (4.0*ct.faraday))"
   ]
  },
  {
   "cell_type": "code",
   "execution_count": 10,
   "metadata": {},
   "outputs": [],
   "source": [
    "def NewtonSolver(f, xstart, C=0.0):\n",
    "    \"\"\"\n",
    "    Solve f(x) = C by Newton iteration.\n",
    "    - xstart    starting point for Newton iteration\n",
    "    - C         constant\n",
    "    \"\"\"\n",
    "    f0 = f(xstart) - C\n",
    "    x0 = xstart\n",
    "    dx = 1.0e-6\n",
    "    n = 0\n",
    "    while n < 200:\n",
    "        ff = f(x0 + dx) - C\n",
    "        dfdx = (ff - f0)/dx\n",
    "        step = - f0/dfdx\n",
    "\n",
    "        # avoid taking steps too large\n",
    "        if abs(step) > 0.1:\n",
    "            step = 0.1*step/abs(step)\n",
    "\n",
    "        x0 += step\n",
    "        emax = 0.00001  # 0.01 mV tolerance\n",
    "        if abs(f0) < emax and n > 8:\n",
    "            return x0\n",
    "        f0 = f(x0) - C\n",
    "        n += 1\n",
    "    raise Exception('no root!')"
   ]
  },
  {
   "cell_type": "code",
   "execution_count": null,
   "metadata": {},
   "outputs": [],
   "source": [
    "# Anode-side phases"
   ]
  },
  {
   "cell_type": "code",
   "execution_count": 19,
   "metadata": {},
   "outputs": [],
   "source": [
    "# import the anode-side bulk phases\n",
    "gas_a, anode_bulk, oxide_a = ct.import_phases('sofc.cti',\n",
    "                                              ['gas', 'metal', 'oxide_bulk'])\n",
    "\n",
    "# import the surfaces on the anode side\n",
    "anode_surf = ct.Interface('sofc.cti', 'metal_surface', [gas_a])\n",
    "oxide_surf_a = ct.Interface('sofc.cti', 'oxide_surface', [gas_a, oxide_a])\n",
    "\n",
    "# import the anode-side triple phase boundary\n",
    "tpb_a = ct.Interface('sofc.cti', 'tpb', [anode_bulk, anode_surf, oxide_surf_a])\n",
    "\n",
    "anode_surf.name = 'anode surface'\n",
    "oxide_surf_a.name = 'anode-side oxide surface'"
   ]
  },
  {
   "cell_type": "code",
   "execution_count": 20,
   "metadata": {},
   "outputs": [],
   "source": [
    "# this function is defined to use with NewtonSolver to invert the current-\n",
    "# voltage function. NewtonSolver requires a function of one variable, so the\n",
    "# other objects are accessed through the global namespace.\n",
    "def anode_curr(E):\n",
    "    \"\"\"\n",
    "    Current from the anode as a function of anode potential relative to\n",
    "    electrolyte.\n",
    "    \"\"\"\n",
    "\n",
    "    # the anode-side electrolyte potential is kept at zero. Therefore, the\n",
    "    # anode potential is just equal to E.\n",
    "    anode_bulk.electric_potential = E\n",
    "\n",
    "    # get the species net production rates due to the anode-side TPB reaction\n",
    "    # mechanism. The production rate array has the values for the neighbor\n",
    "    # species in the order listed in the .cti file, followed by the tpb phase.\n",
    "    # Since the first neighbor phase is the bulk metal, species 0 is the\n",
    "    # electron.\n",
    "    w = tpb_a.net_production_rates\n",
    "\n",
    "    # the sign convention is that the current is positive when\n",
    "    # electrons are being delivered to the anode - i.e. it is positive\n",
    "    # for fuel cell operation.\n",
    "    return ct.faraday * w[0] * TPB_length_per_area"
   ]
  },
  {
   "cell_type": "code",
   "execution_count": null,
   "metadata": {},
   "outputs": [],
   "source": [
    "# Cathode-side phases"
   ]
  },
  {
   "cell_type": "code",
   "execution_count": 21,
   "metadata": {},
   "outputs": [],
   "source": [
    "# Here for simplicity we are using the same phase and interface models for the\n",
    "# cathode as we used for the anode. In a more realistic simulation, separate\n",
    "# models would be used for the cathode, with a different reaction mechanism.\n",
    "\n",
    "# import the cathode-side bulk phases\n",
    "gas_c, cathode_bulk, oxide_c = ct.import_phases('sofc.cti',\n",
    "                                                ['gas', 'metal', 'oxide_bulk'])\n",
    "\n",
    "# import the surfaces on the cathode side\n",
    "cathode_surf = ct.Interface('sofc.cti', 'metal_surface', [gas_c])\n",
    "oxide_surf_c = ct.Interface('sofc.cti', 'oxide_surface', [gas_c, oxide_c])\n",
    "\n",
    "# import the cathode-side triple phase boundary\n",
    "tpb_c = ct.Interface('sofc.cti', 'tpb', [cathode_bulk, cathode_surf,\n",
    "                                         oxide_surf_c])\n",
    "\n",
    "cathode_surf.name = 'cathode surface'\n",
    "oxide_surf_c.name = 'cathode-side oxide surface'"
   ]
  },
  {
   "cell_type": "code",
   "execution_count": 22,
   "metadata": {},
   "outputs": [],
   "source": [
    "def cathode_curr(E):\n",
    "    \"\"\"Current to the cathode as a function of cathode\n",
    "    potential relative to electrolyte\"\"\"\n",
    "\n",
    "    # due to ohmic losses, the cathode-side electrolyte potential is non-zero.\n",
    "    # Therefore, we need to add this potential to E to get the cathode\n",
    "    # potential.\n",
    "    cathode_bulk.electric_potential = E + oxide_c.electric_potential\n",
    "\n",
    "    # get the species net production rates due to the cathode-side TPB\n",
    "    # reaction mechanism. The production rate array has the values for the\n",
    "    # neighbor species in the order listed in the .cti file, followed by the\n",
    "    # tpb phase. Since the first neighbor phase is the bulk metal, species 0\n",
    "    # is the electron.\n",
    "    w = tpb_c.net_production_rates\n",
    "\n",
    "    # the sign convention is that the current is positive when electrons are\n",
    "    # being drawn from the cathode (i.e, negative production rate).\n",
    "    return -ct.faraday * w[0] * TPB_length_per_area"
   ]
  },
  {
   "cell_type": "code",
   "execution_count": 23,
   "metadata": {},
   "outputs": [],
   "source": [
    "# initialization\n",
    "\n",
    "# set the gas compositions, and temperatures of all phases\n",
    "\n",
    "gas_a.TPX = T, P, anode_gas_X\n",
    "gas_a.equilibrate('TP')  # needed to use equil_OCV\n",
    "\n",
    "gas_c.TPX = T, P, cathode_gas_X\n",
    "gas_c.equilibrate('TP')  # needed to use equil_OCV\n",
    "\n",
    "phases = [anode_bulk, anode_surf, oxide_surf_a, oxide_a, cathode_bulk,\n",
    "          cathode_surf, oxide_surf_c, oxide_c, tpb_a, tpb_c]\n",
    "for p in phases:\n",
    "    p.TP = T, P"
   ]
  },
  {
   "cell_type": "code",
   "execution_count": 24,
   "metadata": {},
   "outputs": [
    {
     "name": "stdout",
     "output_type": "stream",
     "text": [
      "\n",
      "anode surface\n",
      "\n",
      "(m)                      0.6187\n",
      "H(m)                     0.3811\n",
      "O(m)                   8.63e-05\n",
      "OH(m)                 2.593e-06\n",
      "H2O(m)                5.057e-05\n",
      "\n",
      "anode-side oxide surface\n",
      "\n",
      "(ox)                  3.289e-23\n",
      "O''(ox)                       1\n",
      "OH'(ox)               4.425e-22\n",
      "H2O(ox)               2.213e-29\n",
      "\n",
      "cathode surface\n",
      "\n",
      "(m)                   1.482e-07\n",
      "H(m)                  7.572e-14\n",
      "O(m)                          1\n",
      "OH(m)                 2.492e-08\n",
      "H2O(m)                4.033e-13\n",
      "\n",
      "cathode-side oxide surface\n",
      "\n",
      "(ox)                  3.289e-23\n",
      "O''(ox)                       1\n",
      "OH'(ox)               1.474e-23\n",
      "H2O(ox)               7.368e-31\n"
     ]
    }
   ],
   "source": [
    "# now bring the surface coverages into steady state with these gas\n",
    "# compositions. Note that the coverages are held fixed at these values - we do\n",
    "# NOT consider the change in coverages due to TPB reactions. For that, a more\n",
    "# complex model is required. But as long as the thermal chemistry is fast\n",
    "# relative to charge transfer, this should be an OK approximation.\n",
    "\n",
    "for s in [anode_surf, oxide_surf_a, cathode_surf, oxide_surf_c]:\n",
    "    s.advance_coverages(tss)\n",
    "    show_coverages(s)"
   ]
  },
  {
   "cell_type": "code",
   "execution_count": 25,
   "metadata": {},
   "outputs": [
    {
     "name": "stdout",
     "output_type": "stream",
     "text": [
      "\n",
      "ocv from zero current is:  2.5118287154356813\n",
      "OCV from thermo equil is:  1.1375767315163403\n",
      "Ea0 =  -3.6664041080175402\n",
      "Ec0 =  -1.154575392581859\n",
      "\n"
     ]
    }
   ],
   "source": [
    "# find open circuit potentials by solving for the E values that give\n",
    "# zero current.\n",
    "Ea0 = NewtonSolver(anode_curr, xstart=-0.51)\n",
    "Ec0 = NewtonSolver(cathode_curr, xstart=0.51)\n",
    "\n",
    "print('\\nocv from zero current is: ', Ec0 - Ea0)\n",
    "print('OCV from thermo equil is: ', equil_OCV(gas_a, gas_c))\n",
    "\n",
    "print('Ea0 = ', Ea0)\n",
    "print('Ec0 = ', Ec0)\n",
    "print()"
   ]
  },
  {
   "cell_type": "code",
   "execution_count": 26,
   "metadata": {},
   "outputs": [
    {
     "data": {
      "text/plain": [
       "40"
      ]
     },
     "execution_count": 26,
     "metadata": {},
     "output_type": "execute_result"
    }
   ],
   "source": [
    "# do polarization curve for anode overpotentials from -250 mV\n",
    "# (cathodic) to +250 mV (anodic)\n",
    "Ea_min = Ea0 - 0.25\n",
    "Ea_max = Ea0 + 0.25\n",
    "\n",
    "csvfile = open('sofc.csv', 'w')\n",
    "writer = csv.writer(csvfile)\n",
    "writer.writerow(['i (mA/cm2)', 'eta_a', 'eta_c', 'eta_ohmic', 'Eload'])"
   ]
  },
  {
   "cell_type": "code",
   "execution_count": 27,
   "metadata": {},
   "outputs": [
    {
     "name": "stdout",
     "output_type": "stream",
     "text": [
      "polarization curve data written to file sofc.csv\n"
     ]
    }
   ],
   "source": [
    "# vary the anode overpotential, from cathodic to anodic polarization\n",
    "for n in range(100):\n",
    "    Ea = Ea_min + 0.005*n\n",
    "\n",
    "    # set the electrode potential. Note that the anode-side electrolyte is\n",
    "    # held fixed at 0 V.\n",
    "    anode_bulk.electric_potential = Ea\n",
    "\n",
    "    # compute the anode current\n",
    "    curr = anode_curr(Ea)\n",
    "\n",
    "    # set potential of the oxide on the cathode side to reflect the ohmic drop\n",
    "    # through the electrolyte\n",
    "    delta_V = curr * ethick / sigma\n",
    "\n",
    "    # if the current is positive, negatively-charged ions are flowing from the\n",
    "    # cathode to the anode. Therefore, the cathode side must be more negative\n",
    "    # than the anode side.\n",
    "    phi_oxide_c = -delta_V\n",
    "\n",
    "    # note that both the bulk and the surface potentials must be set\n",
    "    oxide_c.electric_potential = phi_oxide_c\n",
    "    oxide_surf_c.electric_potential = phi_oxide_c\n",
    "\n",
    "    # Find the value of the cathode potential relative to the cathode-side\n",
    "    # electrolyte that yields the same current density as the anode current\n",
    "    # density\n",
    "    Ec = NewtonSolver(cathode_curr, xstart=Ec0+0.1, C=curr)\n",
    "\n",
    "    cathode_bulk.electric_potential = phi_oxide_c + Ec\n",
    "\n",
    "    # write the current density, anode and cathode overpotentials, ohmic\n",
    "    # overpotential, and load potential\n",
    "    writer.writerow([0.1*curr, Ea - Ea0, Ec - Ec0, delta_V,\n",
    "                     cathode_bulk.electric_potential -\n",
    "                     anode_bulk.electric_potential])\n",
    "\n",
    "print('polarization curve data written to file sofc.csv')\n",
    "\n",
    "csvfile.close()"
   ]
  },
  {
   "cell_type": "code",
   "execution_count": null,
   "metadata": {},
   "outputs": [],
   "source": [
    "# https://cantera.org/examples/python/surface_chemistry/sofc.py.html"
   ]
  }
 ],
 "metadata": {
  "kernelspec": {
   "display_name": "Python 3",
   "language": "python",
   "name": "python3"
  },
  "language_info": {
   "codemirror_mode": {
    "name": "ipython",
    "version": 3
   },
   "file_extension": ".py",
   "mimetype": "text/x-python",
   "name": "python",
   "nbconvert_exporter": "python",
   "pygments_lexer": "ipython3",
   "version": "3.7.4"
  }
 },
 "nbformat": 4,
 "nbformat_minor": 2
}
