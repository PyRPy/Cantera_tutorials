{
 "cells": [
  {
   "cell_type": "code",
   "execution_count": 1,
   "metadata": {},
   "outputs": [],
   "source": [
    "# a benchmark problem \n",
    "# https://en.wikipedia.org/wiki/Gekko_(optimization_software)\n",
    "# for discription of the problem, see the link above "
   ]
  },
  {
   "cell_type": "code",
   "execution_count": 2,
   "metadata": {},
   "outputs": [],
   "source": [
    "from gekko import GEKKO"
   ]
  },
  {
   "cell_type": "code",
   "execution_count": 3,
   "metadata": {},
   "outputs": [],
   "source": [
    "m = GEKKO() # create an model instance "
   ]
  },
  {
   "cell_type": "code",
   "execution_count": 4,
   "metadata": {},
   "outputs": [],
   "source": [
    "# Initialize variables\n",
    "x1 = m.Var(value=1, lb=1, ub=5)\n",
    "x2 = m.Var(value=5, lb=1, ub=5)\n",
    "x3 = m.Var(value=5, lb=1, ub=5)\n",
    "x4 = m.Var(value=1, lb=1, ub=5)"
   ]
  },
  {
   "cell_type": "code",
   "execution_count": 5,
   "metadata": {},
   "outputs": [],
   "source": [
    "# Equations\n",
    "m.Equation(x1 * x2 * x3 * x4 >= 25)\n",
    "m.Equation(x1 ** 2 + x2 ** 2 + x3 ** 2 + x4 ** 2 == 40)\n",
    "m.Minimize(x1 * x4 * (x1 + x2 + x3) + x3)\n",
    "m.solve(disp=False)  # Solve"
   ]
  },
  {
   "cell_type": "code",
   "execution_count": 6,
   "metadata": {},
   "outputs": [
    {
     "name": "stdout",
     "output_type": "stream",
     "text": [
      "x1: [1.000000057]\n",
      "x2: [4.74299963]\n",
      "x3: [3.8211500283]\n",
      "x4: [1.3794081795]\n",
      "Objective: 17.014017127\n"
     ]
    }
   ],
   "source": [
    "print(\"x1: \" + str(x1.value))\n",
    "print(\"x2: \" + str(x2.value))\n",
    "print(\"x3: \" + str(x3.value))\n",
    "print(\"x4: \" + str(x4.value))\n",
    "print(\"Objective: \" + str(m.options.objfcnval))"
   ]
  }
 ],
 "metadata": {
  "kernelspec": {
   "display_name": "myenv",
   "language": "python",
   "name": "python3"
  },
  "language_info": {
   "codemirror_mode": {
    "name": "ipython",
    "version": 3
   },
   "file_extension": ".py",
   "mimetype": "text/x-python",
   "name": "python",
   "nbconvert_exporter": "python",
   "pygments_lexer": "ipython3",
   "version": "3.13.1"
  }
 },
 "nbformat": 4,
 "nbformat_minor": 2
}
