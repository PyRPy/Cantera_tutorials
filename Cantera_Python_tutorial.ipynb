{
 "cells": [
  {
   "cell_type": "markdown",
   "metadata": {},
   "source": [
    "# Cantera - Python Tutorial"
   ]
  },
  {
   "cell_type": "markdown",
   "metadata": {},
   "source": [
    "## Getting Started"
   ]
  },
  {
   "cell_type": "code",
   "execution_count": 1,
   "metadata": {},
   "outputs": [],
   "source": [
    "import cantera as ct\n",
    "import numpy as np"
   ]
  },
  {
   "cell_type": "code",
   "execution_count": 2,
   "metadata": {},
   "outputs": [],
   "source": [
    "# create a gas mixture\n",
    "gas1 = ct.Solution('gri30.xml')"
   ]
  },
  {
   "cell_type": "code",
   "execution_count": 3,
   "metadata": {},
   "outputs": [
    {
     "name": "stdout",
     "output_type": "stream",
     "text": [
      "\n",
      "  gri30:\n",
      "\n",
      "       temperature             300  K\n",
      "          pressure          101325  Pa\n",
      "           density       0.0818891  kg/m^3\n",
      "  mean mol. weight         2.01588  amu\n",
      "\n",
      "                          1 kg            1 kmol\n",
      "                       -----------      ------------\n",
      "          enthalpy           26470        5.336e+04     J\n",
      "   internal energy     -1.2109e+06       -2.441e+06     J\n",
      "           entropy           64914        1.309e+05     J/K\n",
      "    Gibbs function     -1.9448e+07        -3.92e+07     J\n",
      " heat capacity c_p           14312        2.885e+04     J/K\n",
      " heat capacity c_v           10187        2.054e+04     J/K\n",
      "\n",
      "                           X                 Y          Chem. Pot. / RT\n",
      "                     -------------     ------------     ------------\n",
      "                H2              1                1         -15.7173\n",
      "     [  +52 minor]              0                0\n",
      "\n"
     ]
    }
   ],
   "source": [
    "# view the state of the mixture\n",
    "gas1()"
   ]
  },
  {
   "cell_type": "code",
   "execution_count": 4,
   "metadata": {},
   "outputs": [],
   "source": [
    "# setting the state\n",
    "gas1.TP = 1200, 101325"
   ]
  },
  {
   "cell_type": "code",
   "execution_count": 5,
   "metadata": {},
   "outputs": [
    {
     "name": "stdout",
     "output_type": "stream",
     "text": [
      "\n",
      "  gri30:\n",
      "\n",
      "       temperature            1200  K\n",
      "          pressure          101325  Pa\n",
      "           density       0.0204723  kg/m^3\n",
      "  mean mol. weight         2.01588  amu\n",
      "\n",
      "                          1 kg            1 kmol\n",
      "                       -----------      ------------\n",
      "          enthalpy      1.3296e+07         2.68e+07     J\n",
      "   internal energy      8.3462e+06        1.682e+07     J\n",
      "           entropy           85228        1.718e+05     J/K\n",
      "    Gibbs function     -8.8978e+07       -1.794e+08     J\n",
      " heat capacity c_p           15378          3.1e+04     J/K\n",
      " heat capacity c_v           11253        2.269e+04     J/K\n",
      "\n",
      "                           X                 Y          Chem. Pot. / RT\n",
      "                     -------------     ------------     ------------\n",
      "                H2              1                1         -17.9775\n",
      "     [  +52 minor]              0                0\n",
      "\n"
     ]
    }
   ],
   "source": [
    "gas1()"
   ]
  },
  {
   "cell_type": "code",
   "execution_count": 6,
   "metadata": {},
   "outputs": [],
   "source": [
    "# equivalent\n",
    "gas1.TP = 1200, 101325           # temperature, pressure\n",
    "gas1.TD = 1200, 0.0204723        # temperature, density\n",
    "gas1.HP = 1.32956e7, 101325      # specific enthalpy, pressure\n",
    "gas1.UV = 8.34619e6, 1/0.0204723 # specific internal energy, specific volume\n",
    "gas1.SP = 85227.6, 101325        # specific entropy, pressure\n",
    "gas1.SV = 85227.6, 1/0.0204723   # specific entropy, specific volume"
   ]
  },
  {
   "cell_type": "code",
   "execution_count": 8,
   "metadata": {},
   "outputs": [
    {
     "data": {
      "text/plain": [
       "(1200.0044548350836,\n",
       " 13295636.190310445,\n",
       " (8346238.627182945, 48.84649013545132))"
      ]
     },
     "execution_count": 8,
     "metadata": {},
     "output_type": "execute_result"
    }
   ],
   "source": [
    "gas1.T, gas1.h, gas1.UV"
   ]
  },
  {
   "cell_type": "code",
   "execution_count": 9,
   "metadata": {},
   "outputs": [],
   "source": [
    "# define composition\n",
    "gas1.X = 'CH4:1, O2:2, N2:7.52'"
   ]
  },
  {
   "cell_type": "code",
   "execution_count": 10,
   "metadata": {},
   "outputs": [],
   "source": [
    "# dict for mass and mole fractions\n",
    "phi = 0.8\n",
    "gas1.X = {'CH4':1, 'O2':2/phi, 'N2':2*3.76/phi}"
   ]
  },
  {
   "cell_type": "code",
   "execution_count": 11,
   "metadata": {},
   "outputs": [],
   "source": [
    "# set intenstive properties of mixture and compositions\n",
    "gas1.TPX = 1200, 101325, 'CH4:1, O2:2, N2:7.52'"
   ]
  },
  {
   "cell_type": "code",
   "execution_count": 12,
   "metadata": {},
   "outputs": [
    {
     "name": "stdout",
     "output_type": "stream",
     "text": [
      "\n",
      "  gri30:\n",
      "\n",
      "       temperature            1200  K\n",
      "          pressure          101325  Pa\n",
      "           density        0.280629  kg/m^3\n",
      "  mean mol. weight         27.6332  amu\n",
      "\n",
      "                          1 kg            1 kmol\n",
      "                       -----------      ------------\n",
      "          enthalpy      8.6194e+05        2.382e+07     J\n",
      "   internal energy      5.0088e+05        1.384e+07     J\n",
      "           entropy          8914.3        2.463e+05     J/K\n",
      "    Gibbs function     -9.8352e+06       -2.718e+08     J\n",
      " heat capacity c_p          1397.3        3.861e+04     J/K\n",
      " heat capacity c_v          1096.4         3.03e+04     J/K\n",
      "\n",
      "                           X                 Y          Chem. Pot. / RT\n",
      "                     -------------     ------------     ------------\n",
      "                O2       0.190114         0.220149         -28.7472\n",
      "               CH4       0.095057        0.0551863          -35.961\n",
      "                N2       0.714829         0.724665         -25.6789\n",
      "     [  +50 minor]              0                0\n",
      "\n"
     ]
    }
   ],
   "source": [
    "gas1()"
   ]
  },
  {
   "cell_type": "code",
   "execution_count": 13,
   "metadata": {},
   "outputs": [],
   "source": [
    "# set composition using an 'array'\n",
    "gas1.X = np.ones(53)\n",
    "# gas1.Y = np.ones(53)"
   ]
  },
  {
   "cell_type": "code",
   "execution_count": 14,
   "metadata": {},
   "outputs": [],
   "source": [
    "# change specific volume to 2.1, while holding entropy constant\n",
    "gas1.SV = None, 2.1"
   ]
  },
  {
   "cell_type": "code",
   "execution_count": 15,
   "metadata": {},
   "outputs": [],
   "source": [
    "# set the mass fractions while holding temperature and pressure constant\n",
    "gas1.TPX = None, None, 'CH4:1.0, O2:0.5'"
   ]
  },
  {
   "cell_type": "markdown",
   "metadata": {},
   "source": [
    "## Working with a Subset of Species"
   ]
  },
  {
   "cell_type": "code",
   "execution_count": 17,
   "metadata": {},
   "outputs": [
    {
     "data": {
      "text/plain": [
       "array([0.66666667, 0.33333333, 0.        , 0.        , 0.        ])"
      ]
     },
     "execution_count": 17,
     "metadata": {},
     "output_type": "execute_result"
    }
   ],
   "source": [
    "# use slicing for selection\n",
    "Xmajor = gas1['CH4','O2','CO2','H2O','N2'].X\n",
    "Xmajor"
   ]
  },
  {
   "cell_type": "code",
   "execution_count": 18,
   "metadata": {},
   "outputs": [],
   "source": [
    "major = gas1['CH4','O2','CO2','H2O','N2']\n",
    "cp_major = major.partial_molar_cp\n",
    "wdot_major = major.net_production_rates"
   ]
  },
  {
   "cell_type": "markdown",
   "metadata": {},
   "source": [
    "## Working With Mechanism Files"
   ]
  },
  {
   "cell_type": "code",
   "execution_count": 19,
   "metadata": {},
   "outputs": [],
   "source": [
    "gas2 = ct.Solution('diamond.cti', 'gas')\n",
    "diamond = ct.Solution('diamond.cti', 'diamond')\n",
    "diamond_surf = ct.Interface('diamond.cti' , 'diamond_100',\n",
    "                                [gas2, diamond])"
   ]
  },
  {
   "cell_type": "markdown",
   "metadata": {},
   "source": [
    "## Converting CK-format files"
   ]
  },
  {
   "cell_type": "markdown",
   "metadata": {},
   "source": [
    "## Getting help"
   ]
  },
  {
   "cell_type": "code",
   "execution_count": 20,
   "metadata": {},
   "outputs": [],
   "source": [
    "g = ct.Solution('gri30.xml')"
   ]
  },
  {
   "cell_type": "code",
   "execution_count": 24,
   "metadata": {},
   "outputs": [
    {
     "name": "stdout",
     "output_type": "stream",
     "text": [
      "Help on built-in function species_index:\n",
      "\n",
      "species_index(...) method of cantera.composite.Solution instance\n",
      "    ThermoPhase.species_index(self, species) -> int\n",
      "    \n",
      "    The index of species *species*, which may be specified as a string or\n",
      "    an integer. In the latter case, the index is checked for validity and\n",
      "    returned. If no such species is present, an exception is thrown.\n",
      "\n"
     ]
    }
   ],
   "source": [
    "# help(g)\n",
    "# dir(g)\n",
    "help(g.species_index)"
   ]
  },
  {
   "cell_type": "code",
   "execution_count": null,
   "metadata": {},
   "outputs": [],
   "source": [
    "# https://cantera.org/tutorials/python-tutorial.html"
   ]
  }
 ],
 "metadata": {
  "kernelspec": {
   "display_name": "Python 3",
   "language": "python",
   "name": "python3"
  },
  "language_info": {
   "codemirror_mode": {
    "name": "ipython",
    "version": 3
   },
   "file_extension": ".py",
   "mimetype": "text/x-python",
   "name": "python",
   "nbconvert_exporter": "python",
   "pygments_lexer": "ipython3",
   "version": "3.7.4"
  }
 },
 "nbformat": 4,
 "nbformat_minor": 2
}
