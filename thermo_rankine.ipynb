{
 "cells": [
  {
   "cell_type": "code",
   "execution_count": 1,
   "metadata": {},
   "outputs": [
    {
     "data": {
      "text/plain": [
       "'\\nA Rankine vapor power cycle\\n'"
      ]
     },
     "execution_count": 1,
     "metadata": {},
     "output_type": "execute_result"
    }
   ],
   "source": [
    "\"\"\"\n",
    "A Rankine vapor power cycle\n",
    "\"\"\""
   ]
  },
  {
   "cell_type": "code",
   "execution_count": 2,
   "metadata": {},
   "outputs": [],
   "source": [
    "import cantera as ct"
   ]
  },
  {
   "cell_type": "code",
   "execution_count": 3,
   "metadata": {},
   "outputs": [],
   "source": [
    "# parameters\n",
    "eta_pump = 0.6 # isentropic eff\n",
    "eta_turbine = 0.8\n",
    "p_max = 8.0e5"
   ]
  },
  {
   "cell_type": "code",
   "execution_count": 10,
   "metadata": {},
   "outputs": [],
   "source": [
    "def pump(fluid, p_final, eta):\n",
    "    \"\"\"Adiabatically pump a fluid to pressure p_final, using\n",
    "    a pump with isoentropic efficiency eta.\n",
    "    \"\"\"\n",
    "    h0 = fluid.h\n",
    "    s0 = fluid.s\n",
    "    fluid.SP = s0, p_final\n",
    "    h1s = fluid.h\n",
    "    isentropic_work = h1s - h0\n",
    "    actual_work = isentropic_work / eta\n",
    "    h1 = h0 + actual_work\n",
    "    fluid.HP = h1, p_final\n",
    "    return actual_work"
   ]
  },
  {
   "cell_type": "code",
   "execution_count": 5,
   "metadata": {},
   "outputs": [],
   "source": [
    "def expand(fluid, p_final, eta):\n",
    "    \"\"\"Adiabatically expand a fluid to pressure p_final, using\n",
    "    a turbine with isentropic efficiency eta.\"\"\"\n",
    "    h0 = fluid.h\n",
    "    s0 = fluid.s\n",
    "    fluid.SP =s0, p_final\n",
    "    h1s = fluid.h\n",
    "    isentropic_work = h0 - h1s\n",
    "    actual_work = isentropic_work * eta\n",
    "    h1 = h0 - actual_work\n",
    "    fluid.HP = h1, p_final\n",
    "    return actual_work"
   ]
  },
  {
   "cell_type": "code",
   "execution_count": 6,
   "metadata": {},
   "outputs": [],
   "source": [
    "def printState(n, fluid):\n",
    "    print('\\n***************** State {0} ******************'.format(n))\n",
    "    print(fluid.report())"
   ]
  },
  {
   "cell_type": "code",
   "execution_count": 7,
   "metadata": {},
   "outputs": [],
   "source": [
    "# create an object representing water\n",
    "w = ct.Water()"
   ]
  },
  {
   "cell_type": "code",
   "execution_count": 8,
   "metadata": {},
   "outputs": [
    {
     "name": "stdout",
     "output_type": "stream",
     "text": [
      "\n",
      "***************** State 1 ******************\n",
      "\n",
      "  water:\n",
      "\n",
      "       temperature             300  K\n",
      "          pressure         3528.21  Pa\n",
      "           density         996.589  kg/m^3\n",
      "  mean mol. weight          18.016  amu\n",
      "    vapor fraction               0\n",
      "\n",
      "                          1 kg            1 kmol\n",
      "                       -----------      ------------\n",
      "          enthalpy    -1.58582e+07       -2.857e+08     J\n",
      "   internal energy    -1.58582e+07       -2.857e+08     J\n",
      "           entropy          3913.2         7.05e+04     J/K\n",
      "    Gibbs function    -1.70322e+07       -3.069e+08     J\n",
      " heat capacity c_p         1871.48        1.464e+09     J/K\n",
      " heat capacity c_v         1405.07        2.531e+04     J/K\n",
      "\n"
     ]
    }
   ],
   "source": [
    "# start with saturated liquid water at 300 K\n",
    "w.TX = 300.0, 0.0\n",
    "h1 = w.h\n",
    "p1 = w.P\n",
    "printState(1, w)"
   ]
  },
  {
   "cell_type": "code",
   "execution_count": 11,
   "metadata": {},
   "outputs": [
    {
     "name": "stdout",
     "output_type": "stream",
     "text": [
      "\n",
      "***************** State 2 ******************\n",
      "\n",
      "  water:\n",
      "\n",
      "       temperature         1447.24  K\n",
      "          pressure          800000  Pa\n",
      "           density         1.19796  kg/m^3\n",
      "  mean mol. weight          18.016  amu\n",
      "    vapor fraction               1\n",
      "\n",
      "                          1 kg            1 kmol\n",
      "                       -----------      ------------\n",
      "          enthalpy     -1.0892e+07       -1.962e+08     J\n",
      "   internal energy    -1.15598e+07       -2.083e+08     J\n",
      "           entropy         12859.5        2.317e+05     J/K\n",
      "    Gibbs function    -2.95028e+07       -5.315e+08     J\n",
      " heat capacity c_p         2581.38        4.651e+04     J/K\n",
      " heat capacity c_v         2117.27        3.814e+04     J/K\n",
      "\n"
     ]
    }
   ],
   "source": [
    "# pump it adiabatically to p_max\n",
    "pump_work = pump(w, p_max, eta_pump)\n",
    "h2 = w.h\n",
    "printState(2, w)"
   ]
  },
  {
   "cell_type": "code",
   "execution_count": 12,
   "metadata": {},
   "outputs": [
    {
     "name": "stdout",
     "output_type": "stream",
     "text": [
      "\n",
      "***************** State 3 ******************\n",
      "\n",
      "  water:\n",
      "\n",
      "       temperature         443.624  K\n",
      "          pressure          800000  Pa\n",
      "           density         4.15875  kg/m^3\n",
      "  mean mol. weight          18.016  amu\n",
      "    vapor fraction               1\n",
      "\n",
      "                          1 kg            1 kmol\n",
      "                       -----------      ------------\n",
      "          enthalpy    -1.32016e+07       -2.378e+08     J\n",
      "   internal energy    -1.33939e+07       -2.413e+08     J\n",
      "           entropy         10182.9        1.835e+05     J/K\n",
      "    Gibbs function     -1.7719e+07       -3.192e+08     J\n",
      " heat capacity c_p     4.61687e+07        8.317e+08     J/K\n",
      " heat capacity c_v         1764.53        3.179e+04     J/K\n",
      "\n"
     ]
    }
   ],
   "source": [
    "# heat it at constant pressure until it reaches the saturated vapor state\n",
    "# at this pressure\n",
    "w.PX = p_max, 1.0\n",
    "h3 = w.h\n",
    "heat_added = h3 - h2\n",
    "printState(3, w)"
   ]
  },
  {
   "cell_type": "code",
   "execution_count": 13,
   "metadata": {},
   "outputs": [
    {
     "name": "stdout",
     "output_type": "stream",
     "text": [
      "\n",
      "***************** State 4 ******************\n",
      "\n",
      "  water:\n",
      "\n",
      "       temperature             300  K\n",
      "          pressure         3528.21  Pa\n",
      "           density       0.0305583  kg/m^3\n",
      "  mean mol. weight          18.016  amu\n",
      "    vapor fraction        0.835158\n",
      "\n",
      "                          1 kg            1 kmol\n",
      "                       -----------      ------------\n",
      "          enthalpy    -1.38221e+07        -2.49e+08     J\n",
      "   internal energy    -1.39376e+07       -2.511e+08     J\n",
      "           entropy         10700.1        1.928e+05     J/K\n",
      "    Gibbs function    -1.70322e+07       -3.069e+08     J\n",
      " heat capacity c_p    inf              inf              J/K\n",
      " heat capacity c_v          108455        1.954e+06     J/K\n",
      "\n"
     ]
    }
   ],
   "source": [
    "# expand back to p1\n",
    "turbine_work = expand(w, p1, eta_turbine)\n",
    "printState(4, w)"
   ]
  },
  {
   "cell_type": "code",
   "execution_count": 14,
   "metadata": {},
   "outputs": [
    {
     "data": {
      "text/plain": [
       "620571.0158596382"
      ]
     },
     "execution_count": 14,
     "metadata": {},
     "output_type": "execute_result"
    }
   ],
   "source": [
    "turbine_work"
   ]
  },
  {
   "cell_type": "code",
   "execution_count": 15,
   "metadata": {},
   "outputs": [
    {
     "name": "stdout",
     "output_type": "stream",
     "text": [
      "efficiency =  0.8259978144917454\n"
     ]
    }
   ],
   "source": [
    "# efficiency\n",
    "eff = (turbine_work - pump_work)/heat_added\n",
    "print('efficiency = ', eff)"
   ]
  },
  {
   "cell_type": "code",
   "execution_count": null,
   "metadata": {},
   "outputs": [],
   "source": [
    "# https://cantera.org/examples/python/thermo/rankine.py.html"
   ]
  }
 ],
 "metadata": {
  "kernelspec": {
   "display_name": "Python 3",
   "language": "python",
   "name": "python3"
  },
  "language_info": {
   "codemirror_mode": {
    "name": "ipython",
    "version": 3
   },
   "file_extension": ".py",
   "mimetype": "text/x-python",
   "name": "python",
   "nbconvert_exporter": "python",
   "pygments_lexer": "ipython3",
   "version": "3.7.4"
  }
 },
 "nbformat": 4,
 "nbformat_minor": 2
}
