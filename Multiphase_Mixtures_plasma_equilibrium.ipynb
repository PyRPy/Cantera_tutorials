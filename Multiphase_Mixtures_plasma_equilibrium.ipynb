{
 "cells": [
  {
   "cell_type": "code",
   "execution_count": null,
   "metadata": {},
   "outputs": [],
   "source": [
    "# An equilibrium example with charged species in the gas phase and multiple condensed phases."
   ]
  },
  {
   "cell_type": "code",
   "execution_count": 1,
   "metadata": {},
   "outputs": [],
   "source": [
    "import cantera as ct\n",
    "import csv"
   ]
  },
  {
   "cell_type": "code",
   "execution_count": 2,
   "metadata": {},
   "outputs": [],
   "source": [
    "# create objects representing the gas phase and the condensed phases. The gas\n",
    "# is a mixture of multiple species, and the condensed phases are all modeled\n",
    "# as incompressible stoichiometric substances. See file KOH.cti for more\n",
    "# information.\n",
    "\n",
    "phases = ct.import_phases('KOH.cti', ['K_solid', 'K_liquid', 'KOH_a', 'KOH_b',\n",
    "                                      'KOH_liquid', 'K2O2_solid', 'K2O_solid',\n",
    "                                      'KO2_solid', 'ice', 'liquid_water',\n",
    "                                      'KOH_plasma'])"
   ]
  },
  {
   "cell_type": "code",
   "execution_count": 4,
   "metadata": {},
   "outputs": [
    {
     "data": {
      "text/plain": [
       "189"
      ]
     },
     "execution_count": 4,
     "metadata": {},
     "output_type": "execute_result"
    }
   ],
   "source": [
    "# create the Mixture object from the list of phases\n",
    "mix = ct.Mixture(phases)\n",
    "\n",
    "csvfile = open('equil_koh.csv', 'w')\n",
    "writer = csv.writer(csvfile)\n",
    "writer.writerow(['T'] + mix.species_names)"
   ]
  },
  {
   "cell_type": "code",
   "execution_count": 5,
   "metadata": {},
   "outputs": [
    {
     "name": "stdout",
     "output_type": "stream",
     "text": [
      "T = 350.0\n",
      "T = 400.0\n",
      "T = 450.0\n",
      "T = 500.0\n",
      "T = 550.0\n",
      "T = 600.0\n",
      "T = 650.0\n",
      "T = 700.0\n",
      "T = 750.0\n",
      "T = 800.0\n",
      "T = 850.0\n",
      "T = 900.0\n",
      "T = 950.0\n",
      "T = 1000.0\n",
      "T = 1050.0\n",
      "T = 1100.0\n",
      "T = 1150.0\n",
      "T = 1200.0\n",
      "T = 1250.0\n",
      "T = 1300.0\n",
      "T = 1350.0\n",
      "T = 1400.0\n",
      "T = 1450.0\n",
      "T = 1500.0\n",
      "T = 1550.0\n",
      "T = 1600.0\n",
      "T = 1650.0\n",
      "T = 1700.0\n",
      "T = 1750.0\n",
      "T = 1800.0\n",
      "T = 1850.0\n",
      "T = 1900.0\n",
      "T = 1950.0\n",
      "T = 2000.0\n",
      "T = 2050.0\n",
      "T = 2100.0\n",
      "T = 2150.0\n",
      "T = 2200.0\n",
      "T = 2250.0\n",
      "T = 2300.0\n",
      "T = 2350.0\n",
      "T = 2400.0\n",
      "T = 2450.0\n",
      "T = 2500.0\n",
      "T = 2550.0\n",
      "T = 2600.0\n",
      "T = 2650.0\n",
      "T = 2700.0\n",
      "T = 2750.0\n",
      "T = 2800.0\n",
      "T = 2850.0\n",
      "T = 2900.0\n",
      "T = 2950.0\n",
      "T = 3000.0\n",
      "T = 3050.0\n",
      "T = 3100.0\n",
      "T = 3150.0\n",
      "T = 3200.0\n",
      "T = 3250.0\n",
      "T = 3300.0\n",
      "T = 3350.0\n",
      "T = 3400.0\n",
      "T = 3450.0\n",
      "T = 3500.0\n",
      "T = 3550.0\n",
      "T = 3600.0\n",
      "T = 3650.0\n",
      "T = 3700.0\n",
      "T = 3750.0\n",
      "T = 3800.0\n",
      "T = 3850.0\n",
      "T = 3900.0\n",
      "T = 3950.0\n",
      "T = 4000.0\n",
      "T = 4050.0\n",
      "T = 4100.0\n",
      "T = 4150.0\n",
      "T = 4200.0\n",
      "T = 4250.0\n",
      "T = 4300.0\n",
      "T = 4350.0\n",
      "T = 4400.0\n",
      "T = 4450.0\n",
      "T = 4500.0\n",
      "T = 4550.0\n",
      "T = 4600.0\n",
      "T = 4650.0\n",
      "T = 4700.0\n",
      "T = 4750.0\n",
      "T = 4800.0\n",
      "T = 4850.0\n",
      "T = 4900.0\n",
      "T = 4950.0\n",
      "T = 5000.0\n",
      "T = 5050.0\n",
      "T = 5100.0\n",
      "T = 5150.0\n",
      "T = 5200.0\n",
      "T = 5250.0\n",
      "T = 5300.0\n"
     ]
    }
   ],
   "source": [
    "# loop over temperature\n",
    "for n in range(100):\n",
    "    t = 350.0 + 50.0*n\n",
    "    print('T = {0}'.format(t))\n",
    "    mix.T = t\n",
    "    mix.P = ct.one_atm\n",
    "    mix.species_moles = \"K:1.03, H2:2.12, O2:0.9\"\n",
    "\n",
    "    # set the mixture to a state of chemical equilibrium holding\n",
    "    # temperature and pressure fixed\n",
    "    # mix.equilibrate(\"TP\",maxsteps=10000,loglevel=1)\n",
    "    mix.equilibrate(\"TP\", max_steps=10000, log_level=0)\n",
    "\n",
    "    # write out the moles of each species\n",
    "    writer.writerow([t] + list(mix.species_moles))\n",
    "\n",
    "csvfile.close()"
   ]
  },
  {
   "cell_type": "code",
   "execution_count": null,
   "metadata": {},
   "outputs": [],
   "source": [
    "# https://cantera.org/examples/python/multiphase/plasma_equilibrium.py.html"
   ]
  }
 ],
 "metadata": {
  "kernelspec": {
   "display_name": "Python 3",
   "language": "python",
   "name": "python3"
  },
  "language_info": {
   "codemirror_mode": {
    "name": "ipython",
    "version": 3
   },
   "file_extension": ".py",
   "mimetype": "text/x-python",
   "name": "python",
   "nbconvert_exporter": "python",
   "pygments_lexer": "ipython3",
   "version": "3.7.4"
  }
 },
 "nbformat": 4,
 "nbformat_minor": 2
}
